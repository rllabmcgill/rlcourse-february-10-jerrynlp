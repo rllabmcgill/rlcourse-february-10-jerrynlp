{
 "cells": [
  {
   "cell_type": "markdown",
   "metadata": {
    "collapsed": true,
    "slideshow": {
     "slide_type": "slide"
    }
   },
   "source": [
    "# Double Q-learning\n",
    "Q-learning sometimes has pool results under stochastic environments. Hasselt[2011] proposed Double Q-learning to overcome this problem.I implement and evaluate Sarsa, Q-learning and Double Q-learning in a standard and new randomized CliffWalking which gaussian distribution is applied to the rewards.\n",
    "## Randomized CliffWalking\n",
    "The standard CliffWalking is a stable environment and the reward of each episode tends to be converge quickly.I propose a randomized CliffWalking which provides a stochastic environment resulting from its gaussian distribution rewards, and Sarsa, Q-learning and Doubel Q-learning are tested."
   ]
  },
  {
   "cell_type": "code",
   "execution_count": 80,
   "metadata": {
    "collapsed": true
   },
   "outputs": [],
   "source": [
    "#randomized Cliff Walking\n",
    "#Gaussian distribution is applied to Rewards\n",
    "%matplotlib inline\n",
    "import numpy as np\n",
    "class CliffWalking:\n",
    "    def __init__(self, width = 12, height = 4, variance = 0.1):\n",
    "        self.width = width\n",
    "        self.height = height\n",
    "        self.x = 0\n",
    "        self.y = 0\n",
    "        self.variance = variance\n",
    "    def resetPosition(self):\n",
    "        self.x = 0\n",
    "        self.y = 0\n",
    "    def getReward(self):\n",
    "        rew = -1\n",
    "        if self.y == 0 and self.x == self.width - 1:\n",
    "            if self.variance > 0:\n",
    "                rew = np.random.normal(100, 100 * self.variance)\n",
    "            else:\n",
    "                rew = 100\n",
    "        elif self.y == 0 and self.x > 0 and self.x < self.width - 1:\n",
    "            #cliff\n",
    "            self.resetPosition()\n",
    "            if self.variance > 0:\n",
    "                rew = np.random.normal(-100, 100 * self.variance)\n",
    "            else:\n",
    "                rew = -100\n",
    "        else:\n",
    "            if self.variance > 0:\n",
    "                rew = np.random.normal(-1, self.variance)\n",
    "            else:\n",
    "                rew = -1\n",
    "        return rew\n",
    "    def move(self, moveType):\n",
    "        if moveType == 'u':\n",
    "            if self.y < self.height - 1:\n",
    "                self.y += 1\n",
    "        elif moveType == 'd':\n",
    "            if self.y > 0:\n",
    "                self.y -= 1\n",
    "        elif moveType == 'r':\n",
    "            if self.x < self.width - 1:\n",
    "                self.x += 1\n",
    "        elif moveType == 'l':\n",
    "            if self.x > 0:\n",
    "                self.x -= 1\n",
    "        return self.getReward()\n",
    "    def isEnd(self):\n",
    "        return self.x > 0 and self.y == 0\n",
    "    def getPosition(self):\n",
    "        return [self.x, self.y]"
   ]
  },
  {
   "cell_type": "markdown",
   "metadata": {},
   "source": [
    "## Q-learning"
   ]
  },
  {
   "cell_type": "code",
   "execution_count": 81,
   "metadata": {
    "collapsed": false
   },
   "outputs": [],
   "source": [
    "actions = ['u', 'd', 'r', 'l']\n",
    "epsilon = 0.1\n",
    "#Q Learning\n",
    "def qLearning(cw, width, height, avgR, iterator, max_iter):\n",
    "    q = np.zeros((width, height, 4))\n",
    "    G = 0.0\n",
    "    i = 0\n",
    "    while not cw.isEnd():\n",
    "        s0 = cw.getPosition()\n",
    "        a = q[s0[0], s0[1]].argmax()\n",
    "        if np.random.random() < epsilon:\n",
    "            a = np.random.choice(range(4))\n",
    "        r = cw.move(actions[a])\n",
    "        G += r\n",
    "        i += 1\n",
    "        if i <= max_iter:\n",
    "            avgR[i] = G / i\n",
    "        s1 = cw.getPosition()\n",
    "        q[s0[0], s0[1], a] +=  0.1 * (r + 0.8 * q[s1[0], s1[1]].max() - q[s0[0], s0[1], a])\n",
    "    iterator.append(i)"
   ]
  },
  {
   "cell_type": "markdown",
   "metadata": {},
   "source": [
    "## Double Q-learning"
   ]
  },
  {
   "cell_type": "code",
   "execution_count": 82,
   "metadata": {
    "collapsed": false
   },
   "outputs": [],
   "source": [
    "actions = ['u', 'd', 'r', 'l']\n",
    "epsilon = 0.1\n",
    "#Q Learning\n",
    "def dqLearning(cw, width, height, avgR, iterator, max_iter):\n",
    "    q1 = np.zeros((width, height, 4))\n",
    "    q2 = np.zeros((width, height, 4))\n",
    "    G = 0.0\n",
    "    i = 0\n",
    "    while not cw.isEnd():\n",
    "        s0 = cw.getPosition()\n",
    "        a = np.argmax(q1[s0[0], s0[1]] + q2[s0[0], s0[1]])\n",
    "        if np.random.random() < epsilon:\n",
    "            a = np.random.choice(range(4))\n",
    "        r = cw.move(actions[a])\n",
    "        G += r\n",
    "        i += 1\n",
    "        if i <= max_iter:\n",
    "            avgR[i] = G / i\n",
    "        s1 = cw.getPosition()\n",
    "        if np.random.random() < 0.5:\n",
    "            q1[s0[0], s0[1], a] +=  0.1 * (r + 0.8 * q2[s1[0], s1[1], q1[s1[0], s1[1]].argmax()] - q1[s0[0], s0[1], a])\n",
    "        else:\n",
    "            q2[s0[0], s0[1], a] +=  0.1 * (r + 0.8 * q1[s1[0], s1[1], q2[s1[0], s1[1]].argmax()] - q2[s0[0], s0[1], a])\n",
    "    iterator.append(i)"
   ]
  },
  {
   "cell_type": "markdown",
   "metadata": {},
   "source": [
    "## Sarsa"
   ]
  },
  {
   "cell_type": "code",
   "execution_count": 83,
   "metadata": {
    "collapsed": false
   },
   "outputs": [],
   "source": [
    "actions = ['u', 'd', 'r', 'l']\n",
    "epsilon = 0.1\n",
    "#Sarsa\n",
    "def Sarsa(cw, width, height, avgR, iterator, max_iter):\n",
    "    q = np.zeros((width, height, 4))\n",
    "    G = 0.0\n",
    "    i = 0\n",
    "    while not cw.isEnd():\n",
    "        s0 = cw.getPosition()\n",
    "        a = q[s0[0], s0[1]].argmax()\n",
    "        if np.random.random() < epsilon:\n",
    "            a = np.random.choice(range(4))\n",
    "        r = cw.move(actions[a])\n",
    "        G += r\n",
    "        i += 1\n",
    "        if i <= max_iter:\n",
    "            avgR[i] = G / i\n",
    "        s1 = cw.getPosition()\n",
    "        a1 = q[s1[0], s1[1]].argmax()\n",
    "        if np.random.random() < epsilon:\n",
    "            a1 = np.random.choice(range(4))\n",
    "        q[s0[0], s0[1], a] +=  0.1 * (r + 0.8 * q[s1[0], s1[1], a1] - q[s0[0], s0[1], a])\n",
    "    iterator.append(i)"
   ]
  },
  {
   "cell_type": "markdown",
   "metadata": {},
   "source": [
    "## Sarsa, Q-learning and Double Q-learning on CliffWalking"
   ]
  },
  {
   "cell_type": "code",
   "execution_count": 90,
   "metadata": {
    "collapsed": false
   },
   "outputs": [
    {
     "name": "stdout",
     "output_type": "stream",
     "text": [
      "Average iteration of Q-learning: 850.37\n",
      "Average iteration of Double Q-learning: 865.028\n"
     ]
    },
    {
     "data": {
      "image/png": "[encoded data removed]",
      "text/plain": [
       "<matplotlib.figure.Figure at 0x6fd47f0>"
      ]
     },
     "metadata": {},
     "output_type": "display_data"
    }
   ],
   "source": [
    "import matplotlib.pyplot as plt\n",
    "#initialize CliffWalking\n",
    "cw = CliffWalking(variance = 1)\n",
    "ite1 = []\n",
    "avgR1 = [[0.0]*500] * 500\n",
    "ite2 = []\n",
    "avgR2 = [[0.0]*500] * 500\n",
    "for i in range(500):\n",
    "    cw.resetPosition()\n",
    "    qLearning(cw, 12, 4, avgR1[i], ite1, 499)\n",
    "    cw.resetPosition()\n",
    "    dqLearning(cw, 12, 4, avgR2[i], ite2, 499)\n",
    "plt.plot(np.mean(np.asarray(avgR1, dtype=np.float32), axis=0), label = 'QLearning')\n",
    "print \"Average iteration of Q-learning: \" + str(np.mean(ite1))\n",
    "plt.plot(np.mean(np.asarray(avgR2, dtype=np.float32), axis=0), label = 'Double QLearning')\n",
    "print \"Average iteration of Double Q-learning: \" + str(np.mean(ite2))\n",
    "plt.ylabel('Reward per episode')\n",
    "plt.xlabel('Episodes')\n",
    "plt.legend(loc='best')\n",
    "plt.tight_layout()\n",
    "plt.show()"
   ]
  },
  {
   "cell_type": "markdown",
   "metadata": {},
   "source": [
    "## Sarsa, Q-learning and Double Q-learning on randomized CliffWalking"
   ]
  },
  {
   "cell_type": "code",
   "execution_count": 92,
   "metadata": {
    "collapsed": false
   },
   "outputs": [
    {
     "name": "stdout",
     "output_type": "stream",
     "text": [
      "Variance:0\n",
      "Average iteration of Q-learning: 749.19\n",
      "Average iteration of Double Q-learning: 748.55\n",
      "Average iteration of Sarsa: 784.44\n",
      "Variance:0.1\n",
      "Average iteration of Q-learning: 797.93\n",
      "Average iteration of Double Q-learning: 728.63\n",
      "Average iteration of Sarsa: 792.76\n",
      "Variance:0.5\n",
      "Average iteration of Q-learning: 774.75\n",
      "Average iteration of Double Q-learning: 830.98\n",
      "Average iteration of Sarsa: 776.27\n",
      "Variance:1\n",
      "Average iteration of Q-learning: 885.33\n",
      "Average iteration of Double Q-learning: 789.86\n",
      "Average iteration of Sarsa: 974.77\n",
      "Variance:5\n",
      "Average iteration of Q-learning: 2758.69\n",
      "Average iteration of Double Q-learning: 1481.93\n",
      "Average iteration of Sarsa: 2374.6\n",
      "Variance:10\n",
      "Average iteration of Q-learning: 4360.79\n",
      "Average iteration of Double Q-learning: 1938.23\n",
      "Average iteration of Sarsa: 3239.43\n"
     ]
    },
    {
     "data": {
      "image/png": "[encoded data removed]",
      "text/plain": [
       "<matplotlib.figure.Figure at 0x5b1dd70>"
      ]
     },
     "metadata": {},
     "output_type": "display_data"
    }
   ],
   "source": [
    "#initialize Random CliffWalking\n",
    "variances = [0, 0.1, 0.5, 1, 5, 10]\n",
    "ite1_a = []\n",
    "ite2_a = []\n",
    "ite3_a = []\n",
    "for variance in variances:\n",
    "    cw = CliffWalking(variance = variance)\n",
    "    ite1 = []\n",
    "    avgR1 = [[0.0]*200] * 100\n",
    "    ite2 = []\n",
    "    avgR2 = [[0.0]*200] * 100\n",
    "    ite3 = []\n",
    "    avgR3 = [[0.0]*200] * 100\n",
    "    for i in range(100):\n",
    "        cw.resetPosition()\n",
    "        qLearning(cw, 12, 4, avgR1[i], ite1, 199)\n",
    "        cw.resetPosition()\n",
    "        dqLearning(cw, 12, 4, avgR2[i], ite2, 199)\n",
    "        cw.resetPosition()\n",
    "        Sarsa(cw, 12, 4, avgR3[i], ite3, 199)\n",
    "    ite1_a.append(np.mean(ite1))\n",
    "    ite2_a.append(np.mean(ite2))\n",
    "    ite3_a.append(np.mean(ite3))\n",
    "    print \"Variance:\" + str(variance)\n",
    "    print \"Average iteration of Q-learning: \" + str(np.mean(ite1))\n",
    "    print \"Average iteration of Double Q-learning: \" + str(np.mean(ite2))\n",
    "    print \"Average iteration of Sarsa: \" + str(np.mean(ite3))\n",
    "plt.plot(ite1_a, label = 'QLearning')\n",
    "plt.plot(ite2_a, label = 'Double QLearning')\n",
    "plt.plot(ite3_a, label = 'Sarsa')\n",
    "plt.xticks(range(6), variances, rotation=0)  \n",
    "plt.ylabel('Number of steps')\n",
    "plt.xlabel('Variances')\n",
    "plt.legend(loc='best')\n",
    "plt.tight_layout()\n",
    "plt.show()"
   ]
  },
  {
   "cell_type": "markdown",
   "metadata": {},
   "source": [
    "## Discussion\n",
    "We create a randomized CliffWalking environment and compare these methods based on different vairance ratio. From the experiments,Double Q-learning is less sensitive to the variances (the higer variance the more uncertain environment) and needs much fewer steps to reach the goal when the variance is big."
   ]
  },
  {
   "cell_type": "code",
   "execution_count": null,
   "metadata": {
    "collapsed": true
   },
   "outputs": [],
   "source": []
  }
 ],
 "metadata": {
  "kernelspec": {
   "display_name": "Python 2",
   "language": "python",
   "name": "python2"
  },
  "language_info": {
   "codemirror_mode": {
    "name": "ipython",
    "version": 2
   },
   "file_extension": ".py",
   "mimetype": "text/x-python",
   "name": "python",
   "nbconvert_exporter": "python",
   "pygments_lexer": "ipython2",
   "version": "2.7.12"
  }
 },
 "nbformat": 4,
 "nbformat_minor": 0
}
